{
 "cells": [
  {
   "cell_type": "markdown",
   "id": "3d687c4e",
   "metadata": {},
   "source": [
    "# MLOPS - Stock Movement Prediction System\n",
    "\n",
    "## Datasets\n",
    "\n",
    "### `yfinance`\n",
    "\n",
    "the [`price_ingestion.py`](src/data/price_ingestion.py) script is design to extract overtime price data of an stock with yfinance and load it to pandas dataframe for processing.\n",
    "\n",
    "Run the script with :\n",
    "\n",
    "```bash\n",
    "python price_ingestion.py\n",
    "```\n",
    "\n",
    "on the terminal, after that the dataset will look like this :"
   ]
  },
  {
   "cell_type": "code",
   "execution_count": 3,
   "id": "6c75f45b",
   "metadata": {},
   "outputs": [
    {
     "data": {
      "text/html": [
       "<div>\n",
       "<style scoped>\n",
       "    .dataframe tbody tr th:only-of-type {\n",
       "        vertical-align: middle;\n",
       "    }\n",
       "\n",
       "    .dataframe tbody tr th {\n",
       "        vertical-align: top;\n",
       "    }\n",
       "\n",
       "    .dataframe thead th {\n",
       "        text-align: right;\n",
       "    }\n",
       "</style>\n",
       "<table border=\"1\" class=\"dataframe\">\n",
       "  <thead>\n",
       "    <tr style=\"text-align: right;\">\n",
       "      <th></th>\n",
       "      <th>Price</th>\n",
       "      <th>Close</th>\n",
       "      <th>High</th>\n",
       "      <th>Low</th>\n",
       "      <th>Open</th>\n",
       "      <th>Volume</th>\n",
       "    </tr>\n",
       "  </thead>\n",
       "  <tbody>\n",
       "    <tr>\n",
       "      <th>0</th>\n",
       "      <td>Ticker</td>\n",
       "      <td>AAPL</td>\n",
       "      <td>AAPL</td>\n",
       "      <td>AAPL</td>\n",
       "      <td>AAPL</td>\n",
       "      <td>AAPL</td>\n",
       "    </tr>\n",
       "    <tr>\n",
       "      <th>1</th>\n",
       "      <td>Date</td>\n",
       "      <td>NaN</td>\n",
       "      <td>NaN</td>\n",
       "      <td>NaN</td>\n",
       "      <td>NaN</td>\n",
       "      <td>NaN</td>\n",
       "    </tr>\n",
       "    <tr>\n",
       "      <th>2</th>\n",
       "      <td>2020-01-02</td>\n",
       "      <td>72.53851318359375</td>\n",
       "      <td>72.59889150198023</td>\n",
       "      <td>71.29230380764884</td>\n",
       "      <td>71.54588979671196</td>\n",
       "      <td>135480400</td>\n",
       "    </tr>\n",
       "    <tr>\n",
       "      <th>3</th>\n",
       "      <td>2020-01-03</td>\n",
       "      <td>71.83330535888672</td>\n",
       "      <td>72.594070846621</td>\n",
       "      <td>71.6086997390569</td>\n",
       "      <td>71.76568192376371</td>\n",
       "      <td>146322800</td>\n",
       "    </tr>\n",
       "    <tr>\n",
       "      <th>4</th>\n",
       "      <td>2020-01-06</td>\n",
       "      <td>72.40567779541016</td>\n",
       "      <td>72.44432080433776</td>\n",
       "      <td>70.7030121336898</td>\n",
       "      <td>70.95418800651902</td>\n",
       "      <td>118387200</td>\n",
       "    </tr>\n",
       "  </tbody>\n",
       "</table>\n",
       "</div>"
      ],
      "text/plain": [
       "        Price              Close               High                Low  \\\n",
       "0      Ticker               AAPL               AAPL               AAPL   \n",
       "1        Date                NaN                NaN                NaN   \n",
       "2  2020-01-02  72.53851318359375  72.59889150198023  71.29230380764884   \n",
       "3  2020-01-03  71.83330535888672    72.594070846621   71.6086997390569   \n",
       "4  2020-01-06  72.40567779541016  72.44432080433776   70.7030121336898   \n",
       "\n",
       "                Open     Volume  \n",
       "0               AAPL       AAPL  \n",
       "1                NaN        NaN  \n",
       "2  71.54588979671196  135480400  \n",
       "3  71.76568192376371  146322800  \n",
       "4  70.95418800651902  118387200  "
      ]
     },
     "execution_count": 3,
     "metadata": {},
     "output_type": "execute_result"
    }
   ],
   "source": [
    "import pandas as pd; import os; path='data/raw'; df=pd.read_csv(os.path.join(path,'AAPL_price_data.csv')); df.head()"
   ]
  },
  {
   "cell_type": "markdown",
   "id": "2f813e09",
   "metadata": {},
   "source": [
    "\n",
    "### Financial News\n",
    "\n",
    "can be done with; fetching news article with [`newsapi.org`](https://newsapi.org/). take the api key and use `newsapi-python` package to fetch the data. The [`news_ingestion.py`](src/data/news_ingestion.py) scirpt will run this logic properly. \n",
    "\n",
    "run it with the same logic earlier, and the dataset will look like this:"
   ]
  },
  {
   "cell_type": "code",
   "execution_count": 5,
   "id": "2ded7f4c",
   "metadata": {},
   "outputs": [
    {
     "data": {
      "text/html": [
       "<div>\n",
       "<style scoped>\n",
       "    .dataframe tbody tr th:only-of-type {\n",
       "        vertical-align: middle;\n",
       "    }\n",
       "\n",
       "    .dataframe tbody tr th {\n",
       "        vertical-align: top;\n",
       "    }\n",
       "\n",
       "    .dataframe thead th {\n",
       "        text-align: right;\n",
       "    }\n",
       "</style>\n",
       "<table border=\"1\" class=\"dataframe\">\n",
       "  <thead>\n",
       "    <tr style=\"text-align: right;\">\n",
       "      <th></th>\n",
       "      <th>publishedAt</th>\n",
       "      <th>title</th>\n",
       "      <th>description</th>\n",
       "      <th>content</th>\n",
       "    </tr>\n",
       "  </thead>\n",
       "  <tbody>\n",
       "    <tr>\n",
       "      <th>0</th>\n",
       "      <td>2025-08-28 12:15:00</td>\n",
       "      <td>Hello Kitty and Friends: Freeze Tag Party Game...</td>\n",
       "      <td>Game originally debuted as mobile game in 2022...</td>\n",
       "      <td>Nighthawk Interactive announced on Tuesday it ...</td>\n",
       "    </tr>\n",
       "    <tr>\n",
       "      <th>1</th>\n",
       "      <td>2025-08-28 12:12:25</td>\n",
       "      <td>How to make clear iPhone app icons with iOS 26...</td>\n",
       "      <td>How to make clear iPhone app icons with iOS 26...</td>\n",
       "      <td>I don't have any use for bodyguards, but I do ...</td>\n",
       "    </tr>\n",
       "    <tr>\n",
       "      <th>2</th>\n",
       "      <td>2025-08-28 12:11:37</td>\n",
       "      <td>For our readers, the iPhone 17 Air is more app...</td>\n",
       "      <td>A poll of nearly 3,000 9to5Mac readers reveale...</td>\n",
       "      <td>A poll of nearly 3,000 9to5Mac readers reveale...</td>\n",
       "    </tr>\n",
       "    <tr>\n",
       "      <th>3</th>\n",
       "      <td>2025-08-28 12:08:00</td>\n",
       "      <td>Salesforce Agentforce for Public Sector woos g...</td>\n",
       "      <td>Salesforce sets up MCP servers and testing env...</td>\n",
       "      <td>In recent days, Salesforce released Agentforce...</td>\n",
       "    </tr>\n",
       "    <tr>\n",
       "      <th>4</th>\n",
       "      <td>2025-08-28 12:04:01</td>\n",
       "      <td>Get ready, EV owners: Here come the dongles | ...</td>\n",
       "      <td>The transition from CCS to NACS will unlock th...</td>\n",
       "      <td>Nearly a year ago, GM began selling an adapter...</td>\n",
       "    </tr>\n",
       "  </tbody>\n",
       "</table>\n",
       "</div>"
      ],
      "text/plain": [
       "           publishedAt                                              title  \\\n",
       "0  2025-08-28 12:15:00  Hello Kitty and Friends: Freeze Tag Party Game...   \n",
       "1  2025-08-28 12:12:25  How to make clear iPhone app icons with iOS 26...   \n",
       "2  2025-08-28 12:11:37  For our readers, the iPhone 17 Air is more app...   \n",
       "3  2025-08-28 12:08:00  Salesforce Agentforce for Public Sector woos g...   \n",
       "4  2025-08-28 12:04:01  Get ready, EV owners: Here come the dongles | ...   \n",
       "\n",
       "                                         description  \\\n",
       "0  Game originally debuted as mobile game in 2022...   \n",
       "1  How to make clear iPhone app icons with iOS 26...   \n",
       "2  A poll of nearly 3,000 9to5Mac readers reveale...   \n",
       "3  Salesforce sets up MCP servers and testing env...   \n",
       "4  The transition from CCS to NACS will unlock th...   \n",
       "\n",
       "                                             content  \n",
       "0  Nighthawk Interactive announced on Tuesday it ...  \n",
       "1  I don't have any use for bodyguards, but I do ...  \n",
       "2  A poll of nearly 3,000 9to5Mac readers reveale...  \n",
       "3  In recent days, Salesforce released Agentforce...  \n",
       "4  Nearly a year ago, GM began selling an adapter...  "
      ]
     },
     "execution_count": 5,
     "metadata": {},
     "output_type": "execute_result"
    }
   ],
   "source": [
    "df=pd.read_csv(os.path.join(path,'AAPL_news_data.csv')); df.head()"
   ]
  },
  {
   "cell_type": "markdown",
   "id": "340c683d",
   "metadata": {},
   "source": [
    "### Reddit forum\n",
    "\n",
    "using `PRAW` (Python Reddit API Wrapper) is a simpliest way to get comment on reddit. can be done with; \n",
    "\n",
    "1. Go to Reddit account and `Preferences -> apps`.\n",
    "    \n",
    "2. Click \"create another app...\".\n",
    "    \n",
    "3. Fill in the details: select \"script\" as the app type. The `redirect uri` can be `http://localhost:8080`.\n",
    "    \n",
    "4. Note your `client_id` (under the app name) and `client_secret`.\n",
    "    \n",
    "5. Install PRAW: `pip install praw`.\n",
    "\n",
    "The [`reddit_ingestion.py`](src/data/reddit_ingestion.py) will run this logic properly.\n",
    "\n",
    "run it with the same logic earlier, and the dataset will look like this:"
   ]
  },
  {
   "cell_type": "code",
   "execution_count": 16,
   "id": "47ce1181",
   "metadata": {},
   "outputs": [
    {
     "name": "stdout",
     "output_type": "stream",
     "text": [
      "CLIENT_ID: EJU-g43aMMnsi1y6IrreA\n",
      "SECRET: wKXeLBvWSY7vxWrcAjXlItGiP2VG3Q\n",
      "USER_AGENT: StockSentimentScraper/0.1 by FootballMobile5475\n"
     ]
    }
   ],
   "source": [
    "from dotenv import load_dotenv\n",
    "\n",
    "load_dotenv()\n",
    "\n",
    "REDDIT_CLIENT_ID = os.getenv(\"REDDIT_CLIENT_ID\")\n",
    "REDDIT_CLIENT_SECRET = os.getenv(\"REDDIT_CLIENT_SECRET\")\n",
    "REDDIT_USER_AGENT = os.getenv(\"REDDIT_USER_AGENT\")\n",
    "\n",
    "print(\"CLIENT_ID:\", REDDIT_CLIENT_ID)\n",
    "print(\"SECRET:\", REDDIT_CLIENT_SECRET)\n",
    "print(\"USER_AGENT:\", REDDIT_USER_AGENT)\n"
   ]
  },
  {
   "cell_type": "code",
   "execution_count": 17,
   "id": "d4d42be1",
   "metadata": {},
   "outputs": [
    {
     "name": "stdout",
     "output_type": "stream",
     "text": [
      "True\n"
     ]
    }
   ],
   "source": [
    "import praw\n",
    "\n",
    "reddit = praw.Reddit(\n",
    "    client_id=\"ScSbVs_-TUueU7DGzgDu2Q\",\n",
    "    client_secret=\"7qoVoIr09fq-255tu141M9WPqm-ONA\",\n",
    "    user_agent=\"stockscraper:v1.0 (by u/FootballMobile5475)\"\n",
    ")\n",
    "\n",
    "print(reddit.read_only)  # harus True\n"
   ]
  },
  {
   "cell_type": "code",
   "execution_count": null,
   "id": "b9e17569",
   "metadata": {},
   "outputs": [],
   "source": [
    "df=pd.read_csv(os.path.join(path,'AAPL_news_data.csv')); df.head()"
   ]
  },
  {
   "cell_type": "markdown",
   "id": "c20e696b",
   "metadata": {},
   "source": [
    "\n",
    "### `FinBERT` \n",
    "\n",
    "for data analysing pipeline, we will use a transformer model FinBERT, which is trained to understand financial context for our reddit comment and financial news sentiments datasets. The [`sentiment_analysis.py`](src/features/sentiment_analysis.py) script will handle this well"
   ]
  },
  {
   "cell_type": "markdown",
   "id": "cf9f55fe",
   "metadata": {},
   "source": [
    "### `pandas-ta`\n",
    "\n",
    "will be the right tool to feature engeneering and converting our raw time to time price data into more thoughfull feature. The [`technical_indicators.py`](src/features/technical_indicators.py) script will handle this."
   ]
  },
  {
   "cell_type": "markdown",
   "id": "5f696aa8",
   "metadata": {},
   "source": [
    "### Merge all into Single Entitiy\n",
    "\n",
    "you might be wonder now, herry, how tf the dataset structure will be for modelling, what the features and what the target. easy carl, we will scoring the sentiment and binary class for higher or lower price from yesterday or before. "
   ]
  },
  {
   "cell_type": "code",
   "execution_count": null,
   "id": "3ab2960c",
   "metadata": {},
   "outputs": [],
   "source": []
  },
  {
   "cell_type": "code",
   "execution_count": null,
   "id": "d4e771aa",
   "metadata": {},
   "outputs": [],
   "source": []
  }
 ],
 "metadata": {
  "kernelspec": {
   "display_name": "venv",
   "language": "python",
   "name": "python3"
  },
  "language_info": {
   "codemirror_mode": {
    "name": "ipython",
    "version": 3
   },
   "file_extension": ".py",
   "mimetype": "text/x-python",
   "name": "python",
   "nbconvert_exporter": "python",
   "pygments_lexer": "ipython3",
   "version": "3.10.13"
  }
 },
 "nbformat": 4,
 "nbformat_minor": 5
}
